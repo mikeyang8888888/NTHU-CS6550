{
  "nbformat": 4,
  "nbformat_minor": 0,
  "metadata": {
    "colab": {
      "name": "CV_HW3_B_108062586.ipynb",
      "provenance": [],
      "collapsed_sections": [],
      "toc_visible": true
    },
    "kernelspec": {
      "name": "python3",
      "display_name": "Python 3"
    },
    "accelerator": "GPU"
  },
  "cells": [
    {
      "cell_type": "markdown",
      "metadata": {
        "id": "9OAkOhzr2ekC",
        "colab_type": "text"
      },
      "source": [
        "# Download data"
      ]
    },
    {
      "cell_type": "code",
      "metadata": {
        "id": "Zgh1Sj9GaDB5",
        "colab_type": "code",
        "outputId": "58633d60-63dc-47b1-f97a-36303d26030a",
        "colab": {
          "base_uri": "https://localhost:8080/",
          "height": 238
        }
      },
      "source": [
        "# !wget -nc 140.114.76.113:8000/ccpd6000.zip\n",
        "\n",
        "!wget -nc 140.114.77.221:8000/ccpd6000.zip\n",
        "!unzip -nq ccpd6000.zip\n",
        "!ls -alh"
      ],
      "execution_count": 1,
      "outputs": [
        {
          "output_type": "stream",
          "text": [
            "File ‘ccpd6000.zip’ already there; not retrieving.\n",
            "\n",
            "total 318M\n",
            "drwxr-xr-x 1 root root 4.0K Dec 11 07:52 .\n",
            "drwxr-xr-x 1 root root 4.0K Dec 11 07:03 ..\n",
            "drwxr-xr-x 4 root root 4.0K Nov 19 11:35 ccpd6000\n",
            "-rw-r--r-- 1 root root 317M Nov 19 11:44 ccpd6000.zip\n",
            "drwxr-xr-x 1 root root 4.0K Dec  6 16:53 .config\n",
            "drwxr-xr-x 2 root root 4.0K Dec 11 07:51 .ipynb_checkpoints\n",
            "-rw-r--r-- 1 root root  17K Dec 11 07:48 metrics.png\n",
            "-rw-r--r-- 1 root root 455K Dec 11 07:51 output.csv\n",
            "drwxr-xr-x 6 root root 4.0K Dec 11 07:38 runs\n",
            "drwxr-xr-x 1 root root 4.0K Dec  6 16:53 sample_data\n"
          ],
          "name": "stdout"
        }
      ]
    },
    {
      "cell_type": "code",
      "metadata": {
        "id": "94Q_JGcDKWaz",
        "colab_type": "code",
        "outputId": "4ab1ee7b-0b20-4e58-f397-ffe0d155e567",
        "colab": {
          "base_uri": "https://localhost:8080/",
          "height": 34
        }
      },
      "source": [
        "!sha256sum ccpd6000.zip"
      ],
      "execution_count": 2,
      "outputs": [
        {
          "output_type": "stream",
          "text": [
            "977d7124a53e565c3f2b371a871ee04ebbe572f07deb0b38c5548ddaae0cb2c9  ccpd6000.zip\n"
          ],
          "name": "stdout"
        }
      ]
    },
    {
      "cell_type": "markdown",
      "metadata": {
        "id": "wWoZBNU0sx-v",
        "colab_type": "text"
      },
      "source": [
        "## Init and Utility"
      ]
    },
    {
      "cell_type": "code",
      "metadata": {
        "id": "lcDN5XqjbUCj",
        "colab_type": "code",
        "colab": {}
      },
      "source": [
        "import random\n",
        "import numpy as np\n",
        "import pandas as pd\n",
        "from pathlib import Path\n",
        "from datetime import datetime\n",
        "import matplotlib.pyplot as plt\n",
        "from PIL import Image, ImageDraw\n",
        "from IPython import display\n",
        "\n",
        "import torch\n",
        "from torch import nn\n",
        "from torch.nn import functional as F\n",
        "from torchvision.transforms import functional as tf\n",
        "from torch.utils.data import DataLoader, Dataset, Subset, ConcatDataset\n",
        "\n",
        "import skimage\n",
        "from torchvision import transforms\n",
        "\n",
        "# Fix the seed for reproducibility\n",
        "seed = 999\n",
        "random.seed(seed)\n",
        "np.random.seed(seed)\n",
        "torch.manual_seed(seed)\n",
        "torch.backends.cudnn.deterministic = True\n",
        "\n",
        "# Some constants\n",
        "FIELDS = ['BR_x', 'BR_y', 'BL_x', 'BL_y', 'TL_x', 'TL_y', 'TR_x', 'TR_y'] # the fields in csv\n",
        "IMG_SIZE = (192, 320) # the input image size (width, height) of the model\n",
        "ROOT_DIR = Path('./ccpd6000/') # the root directory of the dataset"
      ],
      "execution_count": 0,
      "outputs": []
    },
    {
      "cell_type": "code",
      "metadata": {
        "id": "nfnBR8ucb3Vp",
        "colab_type": "code",
        "colab": {}
      },
      "source": [
        "def draw_kpts(img, kpts, c='red', r=2.0):\n",
        "    '''\n",
        "    Draw `kpts` on `img`. `img` is modified inplace.\n",
        "    Args:\n",
        "        img: (PIL.Image) the image to be drawn\n",
        "        kpts: (torch.tensor) the normalized positions (x, y) of keypoints, shaped [4, 2]\n",
        "        c: (str) color\n",
        "        r: (float) radius of the drawn circle\n",
        "    Return:\n",
        "        img: (PIL.Image) the result.\n",
        "    '''\n",
        "    draw = ImageDraw.Draw(img)\n",
        "    size = torch.tensor([img.size]).float()\n",
        "    kpts = kpts.view(4, 2) * size\n",
        "    kpts = kpts.numpy().tolist()\n",
        "    for x, y in kpts:\n",
        "        draw.ellipse([x - r, y - r, x + r, y + r], fill=c)\n",
        "    return img"
      ],
      "execution_count": 0,
      "outputs": []
    },
    {
      "cell_type": "markdown",
      "metadata": {
        "id": "HeaDTK_BuGdN",
        "colab_type": "text"
      },
      "source": [
        "## Training Data"
      ]
    },
    {
      "cell_type": "code",
      "metadata": {
        "id": "dJEFBMjEb6kp",
        "colab_type": "code",
        "outputId": "1a3d175a-ace1-4067-c8da-8d5e6f02b92a",
        "colab": {
          "base_uri": "https://localhost:8080/",
          "height": 337
        }
      },
      "source": [
        "class TrainData(Dataset):\n",
        "    def __init__(self, csv_path, img_dir):\n",
        "        super().__init__()\n",
        "        self.anns = pd.read_csv(csv_path).to_dict('records') # List of Dict\n",
        "        self.img_dir = Path(img_dir)\n",
        "\n",
        "    def __len__(self):\n",
        "        '''Return the number of sample\n",
        "        '''\n",
        "        return len(self.anns)\n",
        "        # raise NotImplementedError()\n",
        "\n",
        "    def __getitem__(self, idx):\n",
        "        '''Map index `idx` to a sample, i.e., an image and its keypoints\n",
        "\n",
        "        Args:\n",
        "            idx: (int) index\n",
        "        Return:\n",
        "            img: (torch.FloatTensor) values in 0 ~ 1 and shaped [3, H, W]\n",
        "            kpt: (torch.FloatTensor) normalized positions of \n",
        "                bottom-right, bottom-left, top-left, top-right corners. \n",
        "                For example, position (256, 256) of an (512, 512) image should be (0.5, 0.5)\n",
        "                `kpt` should have same order as `FIELDS` and is shaped [8].\n",
        "        '''\n",
        "\n",
        "        # print(img_path)\n",
        "        ann = self.anns[idx]\n",
        "        # print(ann)\n",
        "        # print(ann['name'])\n",
        "\n",
        "        img_path = str(self.img_dir) + \"/\" + str(ann['name'])\n",
        "        # print(img_path)\n",
        "        # img = skimage.io.imread(img_path)\n",
        "        img = Image.open(img_path)\n",
        "        \n",
        "        # trans_img = np.array(img, dtype=np.uint8)\n",
        "        # trans_img = img.astype('float32') / 255.0\n",
        "\n",
        "        resize_img = img.resize((192, 320), Image.BILINEAR)\n",
        "\n",
        "        transform1 = transforms.Compose([\n",
        "            transforms.ToTensor(), # range [0, 255] -> [0.0,1.0]\n",
        "            ]\n",
        "        )\n",
        "\n",
        "        tensor_img = transform1(resize_img)\n",
        "\n",
        "        # trans_img = img / 255.0\n",
        "\n",
        "        # resize_img = skimage.transform.resize(trans_img, (320, 192, 3)).astype('float32')\n",
        "\n",
        "        # trans_img = resize_img.astype('float32') / 255.0\n",
        "\n",
        "        # print(resize_img.shape)\n",
        "\n",
        "        # resize_img = skimage.transform.resize(trans_img, (320, 192))\n",
        "\n",
        "        # print(trans_img.shape)\n",
        "        # aa = trans_img[..., 0]\n",
        "        # print(aa)\n",
        "        # H, W, channel = trans_img.shape\n",
        "        # # print(H)\n",
        "        # # channel, H, W = trans_img[2], trans_img[1], trans_img[0]\n",
        "        # img_tensor = torch.zeros(channel, H, W)\n",
        "        # print(img_tensor.shape)\n",
        "\n",
        "        # trans_img = np.moveaxis(resize_img, 2, 0)\n",
        "\n",
        "        # -----------------torch tensor\n",
        "        # print(trans_img.shape)\n",
        "        # device = torch.device(\"cuda:0\" if torch.cuda.is_available() else \"cpu\")\n",
        "        # print(device)\n",
        "        # tensor_img = torch.tensor(trans_img, device=device).float()\n",
        "        # tensor_img = torch.from_numpy(trans_img)\n",
        "\n",
        "        # tensor_img = torch.from_numpy(resize_img)\n",
        "\n",
        "        # print(tensor_img)\n",
        "\n",
        "        # ---------------------kpt\n",
        "        # print(\"--------------\")\n",
        "\n",
        "        # point = ann[]\n",
        "\n",
        "        BR_x = ann[FIELDS[0]]/720\n",
        "        BR_y = ann[FIELDS[1]]/1160\n",
        "        BL_x = ann[FIELDS[2]]/720\n",
        "        BL_y = ann[FIELDS[3]]/1160\n",
        "\n",
        "        TL_x = ann[FIELDS[4]]/720\n",
        "        TL_y = ann[FIELDS[5]]/1160\n",
        "        TR_x = ann[FIELDS[6]]/720\n",
        "        TR_y = ann[FIELDS[7]]/1160\n",
        "\n",
        "        kpt = torch.tensor([BR_x, BR_y, BL_x, BL_y, TL_x, TL_y, TR_x, TR_y])\n",
        "        # print(kpt.shape)\n",
        "\n",
        "        # print(ann[FIELDS[0]])\n",
        "\n",
        "        return tensor_img, kpt\n",
        "        # raise NotImplementedError()\n",
        "\n",
        "\n",
        "# Do some checking and visualization\n",
        "data = TrainData(ROOT_DIR / 'train.csv', ROOT_DIR / 'train_images')\n",
        "print(len(data))    # should be 3000\n",
        "\n",
        "# data[-1]\n",
        "\n",
        "img, kpt = data[-1] # get a sample\n",
        "\n",
        "print(img.size())   # should be [3, H, W]\n",
        "print(img.max())    # should be <= 1.0\n",
        "print(kpt.size())   # should be [8]\n",
        "\n",
        "img = tf.to_pil_image(img) # convert tensor of shape (3, H, W) to PIL.Image\n",
        "vis = draw_kpts(img, kpt, c='orange')\n",
        "plt.imshow(vis)\n",
        "plt.show()"
      ],
      "execution_count": 5,
      "outputs": [
        {
          "output_type": "stream",
          "text": [
            "3000\n",
            "torch.Size([3, 320, 192])\n",
            "tensor(1.)\n",
            "torch.Size([8])\n"
          ],
          "name": "stdout"
        },
        {
          "output_type": "display_data",
          "data": {
            "image/png": "[encoded data removed]",
            "text/plain": [
              "<Figure size 432x288 with 1 Axes>"
            ]
          },
          "metadata": {
            "tags": []
          }
        }
      ]
    },
    {
      "cell_type": "markdown",
      "metadata": {
        "id": "jXjRuBAmuNOC",
        "colab_type": "text"
      },
      "source": [
        "## Network"
      ]
    },
    {
      "cell_type": "code",
      "metadata": {
        "id": "u4OigzOEcFR6",
        "colab_type": "code",
        "outputId": "570ef700-5906-473b-a629-cfda14340aa9",
        "colab": {
          "base_uri": "https://localhost:8080/",
          "height": 68
        }
      },
      "source": [
        "class ConvBlock(nn.Module):\n",
        "    def __init__(self, cin, cout):\n",
        "        super().__init__() # necessary\n",
        "        self.conv = nn.Conv2d(cin, cout, (3, 3), padding=1)\n",
        "        self.bn = nn.BatchNorm2d(cout)\n",
        "        self.relu = nn.ReLU()\n",
        "\n",
        "    def forward(self, x):\n",
        "        x = self.conv(x)\n",
        "        x = self.bn(x)\n",
        "        x = self.relu(x)\n",
        "        return x\n",
        "\n",
        "\n",
        "class Net(nn.Module):\n",
        "    def __init__(self):\n",
        "        '''Defines parameters (what layers you gonna use)\n",
        "        '''\n",
        "        super().__init__() # necessary\n",
        "        self.features = nn.Sequential(\n",
        "            ConvBlock(3, 32),\n",
        "            ConvBlock(32, 32),\n",
        "            nn.MaxPool2d((4, 4)),\n",
        "            ConvBlock(32, 32),\n",
        "            ConvBlock(32, 32),\n",
        "            nn.MaxPool2d((2, 2)),\n",
        "            ConvBlock(32, 32),\n",
        "            ConvBlock(32, 32),\n",
        "            nn.MaxPool2d((2, 2)),\n",
        "            ConvBlock(32, 32),\n",
        "            ConvBlock(32, 32),\n",
        "            nn.MaxPool2d((2, 2)),\n",
        "            ConvBlock(32, 32),\n",
        "            ConvBlock(32, 32),\n",
        "            nn.MaxPool2d((2, 2)),\n",
        "        )\n",
        "        self.regression = nn.Sequential(\n",
        "            nn.Flatten(), nn.Linear(480, 32), nn.ReLU(), nn.Linear(32, 8), nn.Sigmoid()\n",
        "        )\n",
        "\n",
        "    def forward(self, img_b):\n",
        "        '''Define how layers are interact, that is, the forward function.\n",
        "        In this network, img_b is passed to self.features and \n",
        "        the result is passed to self.regression.\n",
        "\n",
        "        Args:\n",
        "            img_b: (torch.FloatTensor) input images (mini-batch), shaped [N, 3, H, W]\n",
        "        Return:\n",
        "            kpt_b: (torch.FloatTensor) the predictions (mini-batch), shaped [N, 8]\n",
        "        '''\n",
        "        conv_b = self.features(img_b)\n",
        "        kpt_b = self.regression(conv_b)\n",
        "        return kpt_b\n",
        "        # raise NotImplementedError()\n",
        "\n",
        "\n",
        "# Do some checking\n",
        "loader = DataLoader(data, batch_size=10) # dataloader constructs mini-batch from a dataset\n",
        "img_b, kpt_b = next(iter(loader)) # get an mini-batch\n",
        "print(img_b.size()) # expects [N, 3, H, W]\n",
        "print(kpt_b.size()) # expects [N, 8]\n",
        "\n",
        "# Do a forwarding\n",
        "device = 'cuda'     # the computing device, 'cuda' or 'cpu'\n",
        "model = Net().to(device) # instantiate network and move it to device\n",
        "criterion = nn.L1Loss()  # the criterion (loss function)\n",
        "\n",
        "img_b = img_b.to(device)\n",
        "kpt_b = kpt_b.to(device)\n",
        "pred_b = model(img_b)\n",
        "loss = criterion(pred_b, kpt_b)\n",
        "print(loss)"
      ],
      "execution_count": 6,
      "outputs": [
        {
          "output_type": "stream",
          "text": [
            "torch.Size([10, 3, 320, 192])\n",
            "torch.Size([10, 8])\n",
            "tensor(0.1254, device='cuda:0', grad_fn=<L1LossBackward>)\n"
          ],
          "name": "stdout"
        }
      ]
    },
    {
      "cell_type": "markdown",
      "metadata": {
        "id": "oK44dPOUwmYU",
        "colab_type": "text"
      },
      "source": [
        "## Training"
      ]
    },
    {
      "cell_type": "code",
      "metadata": {
        "id": "az63JEHfcWtJ",
        "colab_type": "code",
        "outputId": "9b9ade36-b8bf-4789-e027-ce5816c79f42",
        "colab": {
          "base_uri": "https://localhost:8080/",
          "height": 1000
        }
      },
      "source": [
        "class Trainer:\n",
        "    def __init__(self, log_dir):\n",
        "        '''Initialize the varibles for training\n",
        "        Args:\n",
        "            log_dir: (pathlib.Path) the direction used for logging\n",
        "        '''\n",
        "        self.log_dir = log_dir\n",
        "\n",
        "        # Datasets and dataloaders\n",
        "        # 1. Split the whole training data into train and valid (validation)\n",
        "        # 2. Construct visualization data (25 training samples, 25 validation samples)\n",
        "        # 3. Make the corresponding dataloaders\n",
        "        data = TrainData(ROOT_DIR / 'train.csv', ROOT_DIR / 'train_images')\n",
        "        pivot = len(data) * 4 // 5\n",
        "        self.train_set = Subset(data, range(0, pivot))\n",
        "        self.valid_set = Subset(data, range(pivot, len(data)))\n",
        "        self.visul_set = ConcatDataset(\n",
        "            [\n",
        "                Subset(self.train_set, random.sample(range(len(self.train_set)), k=25)),\n",
        "                Subset(self.valid_set, random.sample(range(len(self.valid_set)), k=25)),\n",
        "            ]\n",
        "        )\n",
        "        self.train_loader = DataLoader(self.train_set, 10, shuffle=True, num_workers=4)\n",
        "        self.valid_loader = DataLoader(self.valid_set, 10, shuffle=False, num_workers=4)\n",
        "        self.visul_loader = DataLoader(self.visul_set, 10, shuffle=False)\n",
        "\n",
        "        # model, loss function, optimizer\n",
        "        self.device = 'cuda'\n",
        "        self.model = Net().to(self.device)\n",
        "        self.criterion = nn.L1Loss()\n",
        "        self.optimizer = torch.optim.Adam(self.model.parameters(), lr=1e-3)\n",
        "        # self.optimizer = torch.optim.Adagrad(self.model.parameters(), lr=1e-3, lr_decay=0, weight_decay=0, initial_accumulator_value=0)\n",
        "        # self.optimizer = torch.optim.RMSprop(self.model.parameters(), lr=1e-3, alpha=0.99, eps=1e-08, weight_decay=0, momentum=0, centered=False)\n",
        "        self.max_epoch = 25\n",
        "\n",
        "    def run(self):\n",
        "        metrics = {'train_loss': [], 'valid_loss': []}\n",
        "\n",
        "        for self.epoch in range(self.max_epoch): # 5 epochs\n",
        "            train_loss = self.train() # train 1 epoch\n",
        "            valid_loss = self.valid() # valid 1 epoch\n",
        "            self.visul()              # visualization\n",
        "\n",
        "            print(f'Epoch {self.epoch:03d}:')\n",
        "            print('train loss:', train_loss)\n",
        "            print('valid loss:', valid_loss)\n",
        "            metrics['train_loss'].append(train_loss)\n",
        "            metrics['valid_loss'].append(valid_loss)\n",
        "\n",
        "        # Save the parameters(weights) of the model to disk\n",
        "        # Print model's state_dict\n",
        "        # print(\"Model's state_dict:\")\n",
        "        # for param_tensor in model.state_dict():\n",
        "        #     print(param_tensor, \"\\t\", self.model.state_dict()[param_tensor].size())\n",
        "\n",
        "        self.chkpt_dir = Path('./runs/model.pkl')\n",
        "        torch.save(self.model.state_dict(), self.chkpt_dir)\n",
        "        # raise NotImplementedError()\n",
        "\n",
        "        # Plot the loss curve against epoch\n",
        "        plt.title(\"epoch:\"+str(self.max_epoch)+\"\\opitimizer: Adam\")\n",
        "        plt.plot(metrics['train_loss'], label=\"train_loss\")\n",
        "        plt.plot(metrics['valid_loss'], label=\"valid_loss\")\n",
        "        plt.legend()\n",
        "\n",
        "        # save_ckpt_dir = str(self.log_dir) + \"/metrics.png\"\n",
        "        # save_ckpt_dir = self.log_dir / 'metrics.png'\n",
        "        # plt.savefig(self.save_ckpt_dir, bbox_inches='tight')\n",
        "        plt.savefig('metrics.png')\n",
        "        plt.show()\n",
        "        # plt.savefig('metrics.png')\n",
        "        # raise NotImplementedError()\n",
        "\n",
        "    def train(self):\n",
        "        '''Train one epoch\n",
        "        1. Switch model to training mode\n",
        "        2. Iterate mini-batches and do:\n",
        "            a. clear gradient\n",
        "            b. forward to get loss\n",
        "            c. loss backward\n",
        "            d. update parameters\n",
        "        3. Return the average loss in this epoch\n",
        "        '''\n",
        "\n",
        "        his_loss = []\n",
        "        average_loss = 0.0\n",
        "\n",
        "        self.model.train()\n",
        "\n",
        "        idx = 0\n",
        "        for img_b, kpt_b in iter(self.train_loader):\n",
        "\n",
        "            img_b = img_b.to(device)\n",
        "            kpt_b = kpt_b.to(device)\n",
        "\n",
        "            self.optimizer.zero_grad()\n",
        "            ps = self.model(img_b)\n",
        "            loss = self.criterion(ps, kpt_b)\n",
        "            loss.backward()\n",
        "            self.optimizer.step()\n",
        "\n",
        "            his_loss.append(loss.detach().item())\n",
        "        \n",
        "        # print(history_loss)\n",
        "        average_loss = sum(his_loss)/len(his_loss)\n",
        "\n",
        "        return average_loss\n",
        "        # raise NotImplementedError()\n",
        "\n",
        "    @torch.no_grad()\n",
        "    def valid(self):\n",
        "        '''Validate one epoch\n",
        "        1. Switch model to evaluation mode and turn off gradient (by @torch.no_grad() or with torch.no_grad())\n",
        "        2. Iterate mini-batches and do forwarding to get loss\n",
        "        3. Return average loss in this epoch\n",
        "        '''\n",
        "\n",
        "        his_valLoss = []\n",
        "        average_valLoss = 0.0\n",
        "\n",
        "        self.model.eval()\n",
        "        idx = 0\n",
        "        for img_b, kpt_b in iter(self.valid_loader):\n",
        "\n",
        "            img_b = img_b.to(device)\n",
        "            kpt_b = kpt_b.to(device)\n",
        "            ps = self.model(img_b)\n",
        "            val_loss = self.criterion(ps, kpt_b)\n",
        "\n",
        "            his_valLoss.append(val_loss.detach().item())\n",
        "\n",
        "        average_valLoss = sum(his_valLoss)/len(his_valLoss)\n",
        "\n",
        "\n",
        "        return average_valLoss\n",
        "\n",
        "        # raise NotImplementedError()\n",
        "\n",
        "    @torch.no_grad()\n",
        "    def visul(self):\n",
        "        ''' Visualize some samples\n",
        "        1. Switch model to evaluation mode and turn off gradient (by @torch.no_grad() or with torch.no_grad())\n",
        "        2. Iterate mini-batches and do:\n",
        "            a. forward to get predictions\n",
        "            b. visualize and save visualization to log_dir / f'{epoch:03d}'\n",
        "        As a result, first 25 samples are from training data and last 25 samples are from validation.\n",
        "        '''\n",
        "        self.model.eval()\n",
        "        epoch_dir = self.log_dir / f'{self.epoch:03d}'\n",
        "        epoch_dir.mkdir(parents=True)\n",
        "        idx = 0\n",
        "        for img_b, kpt_b in iter(self.visul_loader):\n",
        "            pred_b = self.model(img_b.to(self.device)).to('cpu')\n",
        "            for img, kpt, pred in zip(img_b, kpt_b, pred_b):\n",
        "                img = tf.to_pil_image(img)\n",
        "                vis = draw_kpts(img, kpt, c='orange')\n",
        "                vis = draw_kpts(img, pred, c='red')\n",
        "                vis.save(epoch_dir / f'{idx:03d}.jpg')\n",
        "                idx += 1\n",
        "\n",
        "\n",
        "log_dir = Path('./runs/') / f'{datetime.now():%b.%d %H:%M:%S}'\n",
        "log_dir.mkdir(parents=True)\n",
        "Trainer(log_dir).run()"
      ],
      "execution_count": 8,
      "outputs": [
        {
          "output_type": "stream",
          "text": [
            "Epoch 000:\n",
            "train loss: 0.03325063991360366\n",
            "valid loss: 0.019498880440369248\n",
            "Epoch 001:\n",
            "train loss: 0.017334621562622488\n",
            "valid loss: 0.016234469398235283\n",
            "Epoch 002:\n",
            "train loss: 0.013884017251742382\n",
            "valid loss: 0.013176055982088049\n",
            "Epoch 003:\n",
            "train loss: 0.01295346996630542\n",
            "valid loss: 0.014072981554393967\n",
            "Epoch 004:\n",
            "train loss: 0.011916427878895774\n",
            "valid loss: 0.010321043408475816\n",
            "Epoch 005:\n",
            "train loss: 0.011000770080136136\n",
            "valid loss: 0.010539159349476298\n",
            "Epoch 006:\n",
            "train loss: 0.010375040664803237\n",
            "valid loss: 0.012468009457613031\n",
            "Epoch 007:\n",
            "train loss: 0.010372634189358602\n",
            "valid loss: 0.01092843923252076\n",
            "Epoch 008:\n",
            "train loss: 0.009437509913307924\n",
            "valid loss: 0.01023198403418064\n",
            "Epoch 009:\n",
            "train loss: 0.00968689231085591\n",
            "valid loss: 0.01035125613367806\n",
            "Epoch 010:\n",
            "train loss: 0.009833368323355293\n",
            "valid loss: 0.010023444999630253\n",
            "Epoch 011:\n",
            "train loss: 0.009074104763567448\n",
            "valid loss: 0.0097497025039047\n",
            "Epoch 012:\n",
            "train loss: 0.008840172836789862\n",
            "valid loss: 0.009468874661251903\n",
            "Epoch 013:\n",
            "train loss: 0.00862385863244223\n",
            "valid loss: 0.00976556350942701\n",
            "Epoch 014:\n",
            "train loss: 0.008490606193663552\n",
            "valid loss: 0.008819949200066428\n",
            "Epoch 015:\n",
            "train loss: 0.008365809032693506\n",
            "valid loss: 0.009506162985538443\n",
            "Epoch 016:\n",
            "train loss: 0.008330110250972212\n",
            "valid loss: 0.00946122242603451\n",
            "Epoch 017:\n",
            "train loss: 0.007968098365624125\n",
            "valid loss: 0.008371355306978027\n",
            "Epoch 018:\n",
            "train loss: 0.00810528788715601\n",
            "valid loss: 0.010275317883739869\n",
            "Epoch 019:\n",
            "train loss: 0.00806759845969888\n",
            "valid loss: 0.00913281823353221\n",
            "Epoch 020:\n",
            "train loss: 0.007889153408662726\n",
            "valid loss: 0.00891484369058162\n",
            "Epoch 021:\n",
            "train loss: 0.007699262771833067\n",
            "valid loss: 0.009019976730147998\n",
            "Epoch 022:\n",
            "train loss: 0.007832600180214892\n",
            "valid loss: 0.00900620388177534\n",
            "Epoch 023:\n",
            "train loss: 0.007652666724364584\n",
            "valid loss: 0.009262545259358983\n",
            "Epoch 024:\n",
            "train loss: 0.007601336754548053\n",
            "valid loss: 0.008587486568527918\n"
          ],
          "name": "stdout"
        },
        {
          "output_type": "display_data",
          "data": {
            "image/png": "[encoded data removed]",
            "text/plain": [
              "<Figure size 432x288 with 1 Axes>"
            ]
          },
          "metadata": {
            "tags": []
          }
        }
      ]
    },
    {
      "cell_type": "markdown",
      "metadata": {
        "id": "mzDQiSOIz6Pf",
        "colab_type": "text"
      },
      "source": [
        "## Testing"
      ]
    },
    {
      "cell_type": "code",
      "metadata": {
        "id": "sA2yn9DJco6O",
        "colab_type": "code",
        "colab": {}
      },
      "source": [
        "# # Do testing\n",
        "\n",
        "class TestData(Dataset):\n",
        "    def __init__(self, csv_path, img_dir):\n",
        "        super().__init__()\n",
        "        self.anns = pd.read_csv(csv_path).to_dict('records') # List of Dict\n",
        "        self.img_dir = Path(img_dir)\n",
        "\n",
        "    def __len__(self):\n",
        "        '''Return the number of sample\n",
        "        '''\n",
        "        return len(self.anns)\n",
        "        # raise NotImplementedError()\n",
        "\n",
        "    def __getitem__(self, idx):\n",
        "        '''Map index `idx` to a sample, i.e., an image and its keypoints\n",
        "\n",
        "        Args:\n",
        "            idx: (int) index\n",
        "        Return:\n",
        "            img: (torch.FloatTensor) values in 0 ~ 1 and shaped [3, H, W]\n",
        "            kpt: (torch.FloatTensor) normalized positions of \n",
        "                bottom-right, bottom-left, top-left, top-right corners. \n",
        "                For example, position (256, 256) of an (512, 512) image should be (0.5, 0.5)\n",
        "                `kpt` should have same order as `FIELDS` and is shaped [8].\n",
        "        '''\n",
        "\n",
        "        ann = self.anns[idx]\n",
        "\n",
        "        img_path = str(self.img_dir) + \"/\" + str(ann['name'])\n",
        "\n",
        "        img = Image.open(img_path)\n",
        "        resize_img = img.resize((192, 320), Image.BILINEAR )\n",
        "        transform1 = transforms.Compose([\n",
        "            transforms.ToTensor(), # range [0, 255] -> [0.0,1.0]\n",
        "            ]\n",
        "        )\n",
        "        tensor_img = transform1(resize_img)\n",
        "\n",
        "        # img = skimage.io.imread(img_path)\n",
        "\n",
        "        # trans_img = img.astype('float32') / 255.0\n",
        "        # resize_img = skimage.transform.resize(trans_img, (320, 192, 3)).astype('float32')\n",
        "\n",
        "        # trans_img = np.moveaxis(resize_img, 2, 0)\n",
        "\n",
        "        # tensor_img = torch.from_numpy(trans_img)\n",
        "\n",
        "        BR_x = ann[FIELDS[0]]/720\n",
        "        BR_y = ann[FIELDS[1]]/1160\n",
        "        BL_x = ann[FIELDS[2]]/720\n",
        "        BL_y = ann[FIELDS[3]]/1160\n",
        "\n",
        "        TL_x = ann[FIELDS[4]]/720\n",
        "        TL_y = ann[FIELDS[5]]/1160\n",
        "        TR_x = ann[FIELDS[6]]/720\n",
        "        TR_y = ann[FIELDS[7]]/1160\n",
        "\n",
        "        kpt = torch.tensor([BR_x, BR_y, BL_x, BL_y, TL_x, TL_y, TR_x, TR_y])\n",
        "\n",
        "        return tensor_img, kpt\n",
        "\n",
        "# -------------------------------------------------------------------------------------------------\n",
        "\n",
        "class TestRunner:\n",
        "    def __init__(self):\n",
        "\n",
        "        self.test_data = TestData(ROOT_DIR / 'sample.csv', ROOT_DIR / 'test_images')\n",
        "        # pivot = len(data) * 4 // 5\n",
        "        # self.test_set = Subset(data, range(0, pivot))\n",
        "        self.test_loader = DataLoader(self.test_data, 1, shuffle=False, num_workers=4)\n",
        "\n",
        "        # model, loss function\n",
        "        self.device = 'cuda'\n",
        "        self.loadchkpt_dir = Path('./runs/model.pkl')\n",
        "        self.model = Net().to(self.device)\n",
        "        # self.model.eval()\n",
        "        self.model.load_state_dict(torch.load(self.loadchkpt_dir))\n",
        "\n",
        "    def run(self):\n",
        "\n",
        "        # self.test()\n",
        "\n",
        "        point = self.test()\n",
        "        return point\n",
        "\n",
        "    def test(self):\n",
        "\n",
        "        self.model.eval()\n",
        "\n",
        "        # for img_b, kpt_b in iter(self.test_loader):\n",
        "        #     device = 'cuda' \n",
        "        #     pred_b = self.model(img_b.to(self.device)).to(device)\n",
        "        #     pred_b = self.model(img_b.to(self.device)).cpu()\n",
        "        #     for img, kpt, pred in zip(img_b, kpt_b, pred_b):\n",
        "        #         img_b = img_b.to(device)\n",
        "        #         # kpt_b = kpt_b.to(device)\n",
        "        #         ps = self.model(img_b)\n",
        "\n",
        "        #         # size = torch.tensor([720, 1160]).float()\n",
        "        #         # recover_kpts = ps.view(4, 2) * size\n",
        "        #         # recover_kpts = recover_kpts.numpy()\n",
        "\n",
        "        #         # img = tf.to_pil_image(img)\n",
        "        #         # vis = draw_kpts(img, kpt, c='orange')\n",
        "        #         # vis = draw_kpts(img, pred, c='red')\n",
        "        #         # vis.save(epoch_dir / f'{idx:03d}.jpg')\n",
        "        #         # print(recover_kpts)\n",
        "\n",
        "        #         # idx += 1\n",
        "\n",
        "        # history = {\n",
        "        #     'loss': []\n",
        "        # }\n",
        "\n",
        "        pred_kpt = []\n",
        "        \n",
        "\n",
        "        for img_b, kpt_b in iter(self.test_loader):\n",
        "\n",
        "            img_b = img_b.to(device)\n",
        "            kpt_b = kpt_b.to(device)\n",
        "            ps = self.model(img_b)\n",
        "\n",
        "            # print(ps)\n",
        "\n",
        "            # size = torch.tensor([720, 1160]).float()\n",
        "            # recover_kpts = ps.view(4, 2) * size\n",
        "            # recover_kpts = recover_kpts.numpy()\n",
        "\n",
        "            # print(size[0])\n",
        "\n",
        "            # history[]\n",
        "\n",
        "            pred_kpt += ps.tolist()\n",
        "\n",
        "        return pred_kpt\n",
        "        # # return pred_kpt\n",
        "\n",
        "\n",
        "\n",
        "# ----------------------------------------------------------------------------------------------------------------\n",
        "\n",
        "data = TestData(ROOT_DIR / 'sample.csv', ROOT_DIR / 'test_images')\n",
        "\n",
        "# TestRunner().run()\n",
        "kpt = TestRunner().run()\n",
        "\n",
        "# print(\"----------------------\")\n",
        "# print(kpt)\n",
        "\n",
        "# raise NotImplementedError()"
      ],
      "execution_count": 0,
      "outputs": []
    },
    {
      "cell_type": "markdown",
      "metadata": {
        "id": "F9RLZnwWvODe",
        "colab_type": "text"
      },
      "source": [
        "## Write CSV\n",
        "\n",
        "\n",
        "\n",
        "\n",
        "\n",
        "\n"
      ]
    },
    {
      "cell_type": "code",
      "metadata": {
        "id": "iKUqBn-sCx1H",
        "colab_type": "code",
        "colab": {
          "base_uri": "https://localhost:8080/",
          "height": 255
        },
        "outputId": "5ebedebd-f6b3-4a85-b6a9-4ac7059dfc95"
      },
      "source": [
        "# # recover keypoint and write predict point to csv file\n",
        "\n",
        "# size = torch.tensor([720, 1160]).float()\n",
        "# recover_kpts = kpt.view(4, 2) * size\n",
        "# recover_kpts = recover_kpts.numpy().tolist()\n",
        "\n",
        "# print(kpt)\n",
        "\n",
        "anns = pd.read_csv(ROOT_DIR / 'sample.csv').to_dict('records')\n",
        "\n",
        "recover_kpt = []\n",
        "name=['name','BR_x', 'BR_y', 'BL_x', 'BL_y', 'TL_x', 'TL_y', 'TR_x', 'TR_y']\n",
        "\n",
        "# for i in range(3):\n",
        "\n",
        "for i in range(len(kpt)):\n",
        "\n",
        "    ann = anns[i]\n",
        "\n",
        "    idx = kpt[i]\n",
        "\n",
        "    BR_x = idx[0]*720\n",
        "    BR_y = idx[1]*1160\n",
        "    BL_x = idx[2]*720\n",
        "    BL_y = idx[3]*1160\n",
        "\n",
        "    TL_x = idx[4]*720\n",
        "    TL_y = idx[5]*1160\n",
        "    TR_x = idx[6]*720\n",
        "    TR_y = idx[7]*1160\n",
        "\n",
        "    temp_kpt = [ann['name'], BR_x, BR_y, BL_x, BL_y, TL_x, TL_y, TR_x, TR_y]\n",
        "\n",
        "    # recover_kpt += temp_kpt\n",
        "    recover_kpt.append(temp_kpt)\n",
        "\n",
        "    # # kpt = np.array([BR_x, BR_y, BL_x, BL_y, TL_x, TL_y, TR_x, TR_y])\n",
        "    # print(TR_y)\n",
        "    # print(idx)\n",
        "    # print(\"-----------\")\n",
        "    # print(idx[0]*720.0)\n",
        "\n",
        "# print(recover_kpt.reshape(3, 8))\n",
        "\n",
        "write_data = pd.DataFrame(columns=name, data=recover_kpt)\n",
        "print(write_data)\n",
        "write_data.to_csv('output2.csv',encoding='gbk', index=False)"
      ],
      "execution_count": 10,
      "outputs": [
        {
          "output_type": "stream",
          "text": [
            "          name        BR_x        BR_y  ...        TL_y        TR_x        TR_y\n",
            "0     0000.jpg  376.741490  601.926394  ...  509.874004  371.558647  550.662341\n",
            "1     0001.jpg  437.300749  528.455752  ...  477.818847  437.841525  476.700554\n",
            "2     0002.jpg  461.465220  505.393054  ...  471.079739  460.586100  470.236906\n",
            "3     0003.jpg  506.111641  592.434111  ...  518.062972  502.665238  533.397011\n",
            "4     0004.jpg  440.579224  582.429283  ...  524.065723  436.496859  511.709224\n",
            "...        ...         ...         ...  ...         ...         ...         ...\n",
            "2995  2995.jpg  444.229989  634.482031  ...  575.318506  443.140883  586.738381\n",
            "2996  2996.jpg  500.958967  627.508292  ...  568.911173  499.525509  573.909128\n",
            "2997  2997.jpg  318.426962  375.857252  ...  322.592282  317.571208  331.160940\n",
            "2998  2998.jpg  446.877179  554.637418  ...  469.839066  439.046373  482.535188\n",
            "2999  2999.jpg  506.446853  650.664434  ...  529.088811  498.792086  585.823987\n",
            "\n",
            "[3000 rows x 9 columns]\n"
          ],
          "name": "stdout"
        }
      ]
    },
    {
      "cell_type": "code",
      "metadata": {
        "id": "oJaYpKDqjiLh",
        "colab_type": "code",
        "colab": {
          "base_uri": "https://localhost:8080/",
          "height": 337
        },
        "outputId": "d46e47f7-24b3-41b5-94b9-7d3caecb226c"
      },
      "source": [
        "display.Image(str(log_dir / '004' / '000.jpg')) # A visualization of training data in epoch 4"
      ],
      "execution_count": 11,
      "outputs": [
        {
          "output_type": "execute_result",
          "data": {
            "image/jpeg": "[encoded data removed]",
            "text/plain": [
              "<IPython.core.display.Image object>"
            ]
          },
          "metadata": {
            "tags": []
          },
          "execution_count": 11
        }
      ]
    },
    {
      "cell_type": "code",
      "metadata": {
        "id": "X6umOrDCkXXn",
        "colab_type": "code",
        "colab": {
          "base_uri": "https://localhost:8080/",
          "height": 337
        },
        "outputId": "ddbeb0e8-a8f1-4aca-c379-1bed76988df9"
      },
      "source": [
        "display.Image(str(log_dir / '015' / '025.jpg')) # A visualization of validation data in epoch 4"
      ],
      "execution_count": 14,
      "outputs": [
        {
          "output_type": "execute_result",
          "data": {
            "image/jpeg": "[encoded data removed]",
            "text/plain": [
              "<IPython.core.display.Image object>"
            ]
          },
          "metadata": {
            "tags": []
          },
          "execution_count": 14
        }
      ]
    },
    {
      "cell_type": "code",
      "metadata": {
        "id": "CJ02RuAE7SXD",
        "colab_type": "code",
        "colab": {
          "base_uri": "https://localhost:8080/",
          "height": 305
        },
        "outputId": "cabfc2af-5f95-46d1-fb16-004129d3457a"
      },
      "source": [
        "display.Image('./metrics.png') # Loss"
      ],
      "execution_count": 15,
      "outputs": [
        {
          "output_type": "execute_result",
          "data": {
            "image/png": "[encoded data removed]",
            "text/plain": [
              "<IPython.core.display.Image object>"
            ]
          },
          "metadata": {
            "tags": []
          },
          "execution_count": 15
        }
      ]
    },
    {
      "cell_type": "code",
      "metadata": {
        "id": "hE7xqUzkgmOl",
        "colab_type": "code",
        "outputId": "8a81139a-9711-4454-f8cd-e49ee12df20c",
        "colab": {
          "base_uri": "https://localhost:8080/",
          "height": 170
        }
      },
      "source": [
        "!curl -F \"file=@./output2.csv\" -X POST 140.114.76.113:5000/cs6550 -i"
      ],
      "execution_count": 13,
      "outputs": [
        {
          "output_type": "stream",
          "text": [
            "HTTP/1.1 100 Continue\r\n",
            "\n",
            "HTTP/1.0 200 OK\n",
            "Content-Type: application/json\n",
            "Content-Length: 14\n",
            "Server: Werkzeug/0.16.0 Python/3.7.5\n",
            "Date: Wed, 11 Dec 2019 08:21:05 GMT\n",
            "\n",
            "{\"rmse\":14.1}\n"
          ],
          "name": "stdout"
        }
      ]
    },
    {
      "cell_type": "code",
      "metadata": {
        "id": "cGXJdUCeB1zT",
        "colab_type": "code",
        "colab": {}
      },
      "source": [
        ""
      ],
      "execution_count": 0,
      "outputs": []
    }
  ]
}